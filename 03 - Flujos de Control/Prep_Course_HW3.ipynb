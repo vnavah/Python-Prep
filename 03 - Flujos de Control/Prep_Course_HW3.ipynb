{
 "cells": [
  {
   "attachments": {},
   "cell_type": "markdown",
   "metadata": {},
   "source": [
    "1) Crear una variable que contenga un elemento del conjunto de números enteros y luego imprimir por pantalla si es mayor o menor a cero"
   ]
  },
  {
   "cell_type": "code",
   "execution_count": 22,
   "metadata": {},
   "outputs": [
    {
     "name": "stdout",
     "output_type": "stream",
     "text": [
      "Ingresa un numero: \n",
      "El numero es mayor a cero\n"
     ]
    }
   ],
   "source": [
    "print(\"Ingresa un numero: \")\n",
    "a = int(input())\n",
    "\n",
    "if (a > 0):\n",
    "  print(\"El numero es mayor a cero\")\n",
    "elif (a < 0):\n",
    "  print(\"El numero es menor a cero\")\n",
    "else:\n",
    "  print(\"El numero es igual a cero\")\n",
    "\n"
   ]
  },
  {
   "attachments": {},
   "cell_type": "markdown",
   "metadata": {},
   "source": [
    "2) Crear dos variables y un condicional que informe si son del mismo tipo de dato"
   ]
  },
  {
   "cell_type": "code",
   "execution_count": 31,
   "metadata": {},
   "outputs": [
    {
     "name": "stdout",
     "output_type": "stream",
     "text": [
      "Los datos son de diferente tipo, el dato Python es de tipo <class 'str'> y el dato 9 es de tipo <class 'int'>\n"
     ]
    }
   ],
   "source": [
    "a = \"Python\"\n",
    "b = 9\n",
    "if (type(a) == type(b)):\n",
    "  print(f\"Los datos son de tipo {type(a)}\")\n",
    "else:\n",
    "  print(f\"Los datos son de diferente tipo, el dato {a} es de tipo {type(a)} y el dato {b} es de tipo {type(b)}\")\n"
   ]
  },
  {
   "attachments": {},
   "cell_type": "markdown",
   "metadata": {},
   "source": [
    "3) Para los valores enteros del 1 al 20, imprimir por pantalla si es par o impar"
   ]
  },
  {
   "cell_type": "code",
   "execution_count": 14,
   "metadata": {},
   "outputs": [
    {
     "name": "stdout",
     "output_type": "stream",
     "text": [
      "1 es un numero impar\n",
      "2 es un numero par\n",
      "3 es un numero impar\n",
      "4 es un numero par\n",
      "5 es un numero impar\n",
      "6 es un numero par\n",
      "7 es un numero impar\n",
      "8 es un numero par\n",
      "9 es un numero impar\n",
      "10 es un numero par\n",
      "11 es un numero impar\n",
      "12 es un numero par\n",
      "13 es un numero impar\n",
      "14 es un numero par\n",
      "15 es un numero impar\n",
      "16 es un numero par\n",
      "17 es un numero impar\n",
      "18 es un numero par\n",
      "19 es un numero impar\n",
      "20 es un numero par\n"
     ]
    }
   ],
   "source": [
    "for i in range(1, 21):\n",
    "  if (i % 2 == 0):\n",
    "    print(f\"{i} es un numero par\")\n",
    "  else:\n",
    "    print(f\"{i} es un numero impar\")\n"
   ]
  },
  {
   "attachments": {},
   "cell_type": "markdown",
   "metadata": {},
   "source": [
    "4) En un ciclo for mostrar para los valores entre 0 y 5 el resultado de elevarlo a la potencia igual a 3"
   ]
  },
  {
   "cell_type": "code",
   "execution_count": 3,
   "metadata": {},
   "outputs": [
    {
     "name": "stdout",
     "output_type": "stream",
     "text": [
      "0 elevado a la 3ra potencia es 0\n",
      "1 elevado a la 3ra potencia es 1\n",
      "2 elevado a la 3ra potencia es 8\n",
      "3 elevado a la 3ra potencia es 27\n",
      "4 elevado a la 3ra potencia es 64\n",
      "5 elevado a la 3ra potencia es 125\n"
     ]
    }
   ],
   "source": [
    "for i in range(0, 6):\n",
    "  print(f\"{i} elevado a la 3ra potencia es {str(i **3)}\")"
   ]
  },
  {
   "attachments": {},
   "cell_type": "markdown",
   "metadata": {},
   "source": [
    "5) Crear una variable que contenga un número entero y realizar un ciclo for la misma cantidad de ciclos"
   ]
  },
  {
   "cell_type": "code",
   "execution_count": 26,
   "metadata": {},
   "outputs": [
    {
     "name": "stdout",
     "output_type": "stream",
     "text": [
      "6 ciclos\n"
     ]
    }
   ],
   "source": [
    "n = 5\n",
    "for i in range(0, n):\n",
    "    pass\n",
    "print(f\"{n + 1} ciclos\")"
   ]
  },
  {
   "attachments": {},
   "cell_type": "markdown",
   "metadata": {},
   "source": [
    "6) Utilizar un ciclo while para realizar el factorial de un número guardado en una variable, sólo si la variable contiene un número entero mayor a 0"
   ]
  },
  {
   "cell_type": "code",
   "execution_count": 30,
   "metadata": {},
   "outputs": [
    {
     "name": "stdout",
     "output_type": "stream",
     "text": [
      "120\n"
     ]
    }
   ],
   "source": [
    "# Get the factorial of a number given by the user, use a while loop\n",
    "\n",
    "n = int(input(\"Ingresa un numero: \"))\n",
    "factorial = n\n",
    "while (n > 1):\n",
    "  n -= 1\n",
    "  factorial = factorial * n\n",
    "print(factorial)  "
   ]
  },
  {
   "attachments": {},
   "cell_type": "markdown",
   "metadata": {},
   "source": [
    "7) Crear un ciclo for dentro de un ciclo while"
   ]
  },
  {
   "cell_type": "code",
   "execution_count": 9,
   "metadata": {},
   "outputs": [
    {
     "name": "stdout",
     "output_type": "stream",
     "text": [
      "1\n",
      "2\n",
      "3\n",
      "4\n",
      "5\n",
      "6\n",
      "7\n",
      "8\n",
      "9\n",
      "10\n"
     ]
    }
   ],
   "source": [
    "# Create a for loop inside a while loop that prints the numbers from 1 to 10\n",
    "\n",
    "while True:\n",
    "  for i in range(1, 11):\n",
    "    print(i)\n",
    "  break \n"
   ]
  },
  {
   "attachments": {},
   "cell_type": "markdown",
   "metadata": {},
   "source": [
    "8) Crear un ciclo while dentro de un ciclo for"
   ]
  },
  {
   "cell_type": "code",
   "execution_count": 10,
   "metadata": {},
   "outputs": [
    {
     "name": "stdout",
     "output_type": "stream",
     "text": [
      "1\n",
      "2\n",
      "3\n",
      "4\n",
      "5\n",
      "6\n",
      "7\n",
      "8\n",
      "9\n",
      "10\n"
     ]
    }
   ],
   "source": [
    "# Create a while loop inside a for loop that prints the numbers from 1 to 10\n",
    "\n",
    "for i in range(1, 11):\n",
    "  while True:\n",
    "    print(i)\n",
    "    break"
   ]
  },
  {
   "attachments": {},
   "cell_type": "markdown",
   "metadata": {},
   "source": [
    "9) Imprimir los números primos existentes entre 0 y 30"
   ]
  },
  {
   "cell_type": "code",
   "execution_count": 13,
   "metadata": {},
   "outputs": [
    {
     "name": "stdout",
     "output_type": "stream",
     "text": [
      "2\n",
      "3\n",
      "5\n",
      "7\n",
      "11\n",
      "13\n",
      "17\n",
      "19\n",
      "23\n",
      "29\n"
     ]
    }
   ],
   "source": [
    "# Print prime numbers from 0 to 30\n",
    "for i in range(2, 31):\n",
    "  for j in range(2, i):\n",
    "    if (i % j == 0):\n",
    "      break\n",
    "  else:\n",
    "    print(i)"
   ]
  },
  {
   "attachments": {},
   "cell_type": "markdown",
   "metadata": {},
   "source": [
    "10) ¿Se puede mejorar el proceso del punto 9? Utilizar las sentencias break y/ó continue para tal fin"
   ]
  },
  {
   "cell_type": "code",
   "execution_count": null,
   "metadata": {},
   "outputs": [],
   "source": [
    "# "
   ]
  }
 ],
 "metadata": {
  "kernelspec": {
   "display_name": "Python 3",
   "language": "python",
   "name": "python3"
  },
  "language_info": {
   "codemirror_mode": {
    "name": "ipython",
    "version": 3
   },
   "file_extension": ".py",
   "mimetype": "text/x-python",
   "name": "python",
   "nbconvert_exporter": "python",
   "pygments_lexer": "ipython3",
   "version": "3.10.8"
  },
  "orig_nbformat": 4,
  "vscode": {
   "interpreter": {
    "hash": "e7370f93d1d0cde622a1f8e1c04877d8463912d04d973331ad4851f04de6915a"
   }
  }
 },
 "nbformat": 4,
 "nbformat_minor": 2
}
