{
 "cells": [
  {
   "attachments": {},
   "cell_type": "markdown",
   "metadata": {},
   "source": [
    "1. Crear una variable que contenga un elemento del conjunto de números enteros y luego imprimir por pantalla si es mayor o menor a cero"
   ]
  },
  {
   "cell_type": "code",
   "execution_count": 22,
   "metadata": {},
   "outputs": [
    {
     "name": "stdout",
     "output_type": "stream",
     "text": [
      "Ingresa un numero: \n",
      "El numero es mayor a cero\n"
     ]
    }
   ],
   "source": [
    "print(\"Ingresa un numero: \")\n",
    "a = int(input())\n",
    "\n",
    "if (a > 0):\n",
    "  print(\"El numero es mayor a cero\")\n",
    "elif (a < 0):\n",
    "  print(\"El numero es menor a cero\")\n",
    "else:\n",
    "  print(\"El numero es igual a cero\")\n",
    "\n"
   ]
  },
  {
   "attachments": {},
   "cell_type": "markdown",
   "metadata": {},
   "source": [
    "2. Crear dos variables y un condicional que informe si son del mismo tipo de dato"
   ]
  },
  {
   "cell_type": "code",
   "execution_count": 31,
   "metadata": {},
   "outputs": [
    {
     "name": "stdout",
     "output_type": "stream",
     "text": [
      "Los datos son de diferente tipo, el dato Python es de tipo <class 'str'> y el dato 9 es de tipo <class 'int'>\n"
     ]
    }
   ],
   "source": [
    "a = \"Python\"\n",
    "b = 9\n",
    "if (type(a) == type(b)):\n",
    "  print(f\"Los datos son de tipo {type(a)}\")\n",
    "else:\n",
    "  print(f\"Los datos son de diferente tipo, el dato {a} es de tipo {type(a)} y el dato {b} es de tipo {type(b)}\")\n"
   ]
  },
  {
   "attachments": {},
   "cell_type": "markdown",
   "metadata": {},
   "source": [
    "3. Para los valores enteros del 1 al 20, imprimir por pantalla si es par o impar"
   ]
  },
  {
   "cell_type": "code",
   "execution_count": 14,
   "metadata": {},
   "outputs": [
    {
     "name": "stdout",
     "output_type": "stream",
     "text": [
      "1 es un numero impar\n",
      "2 es un numero par\n",
      "3 es un numero impar\n",
      "4 es un numero par\n",
      "5 es un numero impar\n",
      "6 es un numero par\n",
      "7 es un numero impar\n",
      "8 es un numero par\n",
      "9 es un numero impar\n",
      "10 es un numero par\n",
      "11 es un numero impar\n",
      "12 es un numero par\n",
      "13 es un numero impar\n",
      "14 es un numero par\n",
      "15 es un numero impar\n",
      "16 es un numero par\n",
      "17 es un numero impar\n",
      "18 es un numero par\n",
      "19 es un numero impar\n",
      "20 es un numero par\n"
     ]
    }
   ],
   "source": [
    "for i in range(1, 21):\n",
    "  if (i % 2 == 0):\n",
    "    print(f\"{i} es un numero par\")\n",
    "  else:\n",
    "    print(f\"{i} es un numero impar\")\n"
   ]
  },
  {
   "attachments": {},
   "cell_type": "markdown",
   "metadata": {},
   "source": [
    "4. En un ciclo for mostrar para los valores entre 0 y 5 el resultado de elevarlo a la potencia igual a 3"
   ]
  },
  {
   "cell_type": "code",
   "execution_count": 3,
   "metadata": {},
   "outputs": [
    {
     "name": "stdout",
     "output_type": "stream",
     "text": [
      "0 elevado a la 3ra potencia es 0\n",
      "1 elevado a la 3ra potencia es 1\n",
      "2 elevado a la 3ra potencia es 8\n",
      "3 elevado a la 3ra potencia es 27\n",
      "4 elevado a la 3ra potencia es 64\n",
      "5 elevado a la 3ra potencia es 125\n"
     ]
    }
   ],
   "source": [
    "for i in range(0, 6):\n",
    "  print(f\"{i} elevado a la 3ra potencia es {str(i **3)}\")"
   ]
  },
  {
   "attachments": {},
   "cell_type": "markdown",
   "metadata": {},
   "source": [
    "5. Crear una variable que contenga un número entero y realizar un ciclo for la misma cantidad de ciclos"
   ]
  },
  {
   "cell_type": "code",
   "execution_count": 26,
   "metadata": {},
   "outputs": [
    {
     "name": "stdout",
     "output_type": "stream",
     "text": [
      "6 ciclos\n"
     ]
    }
   ],
   "source": [
    "n = 5\n",
    "for i in range(0, n):\n",
    "    pass\n",
    "print(f\"{n + 1} ciclos\")"
   ]
  },
  {
   "attachments": {},
   "cell_type": "markdown",
   "metadata": {},
   "source": [
    "6. Utilizar un ciclo while para realizar el factorial de un número guardado en una variable, sólo si la variable contiene un número entero mayor a 0"
   ]
  },
  {
   "cell_type": "code",
   "execution_count": 7,
   "metadata": {},
   "outputs": [
    {
     "name": "stdout",
     "output_type": "stream",
     "text": [
      "El factorial de 5 es 120\n"
     ]
    }
   ],
   "source": [
    "# Get the factorial of a number given by the user, use a while loop\n",
    "\n",
    "n = int(input(\"Ingresa un número mayor a cero: \"))\n",
    "inicial = n\n",
    "factorial = n\n",
    "while (n > 2):\n",
    "  n -= 1\n",
    "  factorial = factorial * n\n",
    "print(f\"El factorial de {inicial} es {factorial}\")  "
   ]
  },
  {
   "attachments": {},
   "cell_type": "markdown",
   "metadata": {},
   "source": [
    "7. Crear un ciclo for dentro de un ciclo while"
   ]
  },
  {
   "cell_type": "code",
   "execution_count": 9,
   "metadata": {},
   "outputs": [
    {
     "name": "stdout",
     "output_type": "stream",
     "text": [
      "1\n",
      "2\n",
      "3\n",
      "4\n",
      "5\n",
      "6\n",
      "7\n",
      "8\n",
      "9\n",
      "10\n"
     ]
    }
   ],
   "source": [
    "# Create a for loop inside a while loop that prints the numbers from 1 to 10\n",
    "\n",
    "while True:\n",
    "  for i in range(1, 11):\n",
    "    print(i)\n",
    "  break \n"
   ]
  },
  {
   "attachments": {},
   "cell_type": "markdown",
   "metadata": {},
   "source": [
    "8. Crear un ciclo while dentro de un ciclo for"
   ]
  },
  {
   "cell_type": "code",
   "execution_count": 10,
   "metadata": {},
   "outputs": [
    {
     "name": "stdout",
     "output_type": "stream",
     "text": [
      "1\n",
      "2\n",
      "3\n",
      "4\n",
      "5\n",
      "6\n",
      "7\n",
      "8\n",
      "9\n",
      "10\n"
     ]
    }
   ],
   "source": [
    "# Create a while loop inside a for loop that prints the numbers from 1 to 10\n",
    "\n",
    "for i in range(1, 11):\n",
    "  while True:\n",
    "    print(i)\n",
    "    break"
   ]
  },
  {
   "attachments": {},
   "cell_type": "markdown",
   "metadata": {},
   "source": [
    "9. Imprimir los números primos existentes entre 0 y 30"
   ]
  },
  {
   "cell_type": "code",
   "execution_count": 22,
   "metadata": {},
   "outputs": [
    {
     "name": "stdout",
     "output_type": "stream",
     "text": [
      "2\n",
      "3 % 2 = 1\n",
      "3\n",
      "4 % 2 = 0\n",
      "5 % 2 = 1\n",
      "5 % 3 = 2\n",
      "5 % 4 = 1\n",
      "5\n",
      "6 % 2 = 0\n",
      "7 % 2 = 1\n",
      "7 % 3 = 1\n",
      "7 % 4 = 3\n",
      "7 % 5 = 2\n",
      "7 % 6 = 1\n",
      "7\n",
      "8 % 2 = 0\n",
      "9 % 2 = 1\n",
      "9 % 3 = 0\n",
      "10 % 2 = 0\n",
      "11 % 2 = 1\n",
      "11 % 3 = 2\n",
      "11 % 4 = 3\n",
      "11 % 5 = 1\n",
      "11 % 6 = 5\n",
      "11 % 7 = 4\n",
      "11 % 8 = 3\n",
      "11 % 9 = 2\n",
      "11 % 10 = 1\n",
      "11\n",
      "12 % 2 = 0\n",
      "13 % 2 = 1\n",
      "13 % 3 = 1\n",
      "13 % 4 = 1\n",
      "13 % 5 = 3\n",
      "13 % 6 = 1\n",
      "13 % 7 = 6\n",
      "13 % 8 = 5\n",
      "13 % 9 = 4\n",
      "13 % 10 = 3\n",
      "13 % 11 = 2\n",
      "13 % 12 = 1\n",
      "13\n",
      "14 % 2 = 0\n",
      "15 % 2 = 1\n",
      "15 % 3 = 0\n",
      "16 % 2 = 0\n",
      "17 % 2 = 1\n",
      "17 % 3 = 2\n",
      "17 % 4 = 1\n",
      "17 % 5 = 2\n",
      "17 % 6 = 5\n",
      "17 % 7 = 3\n",
      "17 % 8 = 1\n",
      "17 % 9 = 8\n",
      "17 % 10 = 7\n",
      "17 % 11 = 6\n",
      "17 % 12 = 5\n",
      "17 % 13 = 4\n",
      "17 % 14 = 3\n",
      "17 % 15 = 2\n",
      "17 % 16 = 1\n",
      "17\n",
      "18 % 2 = 0\n",
      "19 % 2 = 1\n",
      "19 % 3 = 1\n",
      "19 % 4 = 3\n",
      "19 % 5 = 4\n",
      "19 % 6 = 1\n",
      "19 % 7 = 5\n",
      "19 % 8 = 3\n",
      "19 % 9 = 1\n",
      "19 % 10 = 9\n",
      "19 % 11 = 8\n",
      "19 % 12 = 7\n",
      "19 % 13 = 6\n",
      "19 % 14 = 5\n",
      "19 % 15 = 4\n",
      "19 % 16 = 3\n",
      "19 % 17 = 2\n",
      "19 % 18 = 1\n",
      "19\n",
      "20 % 2 = 0\n",
      "21 % 2 = 1\n",
      "21 % 3 = 0\n",
      "22 % 2 = 0\n",
      "23 % 2 = 1\n",
      "23 % 3 = 2\n",
      "23 % 4 = 3\n",
      "23 % 5 = 3\n",
      "23 % 6 = 5\n",
      "23 % 7 = 2\n",
      "23 % 8 = 7\n",
      "23 % 9 = 5\n",
      "23 % 10 = 3\n",
      "23 % 11 = 1\n",
      "23 % 12 = 11\n",
      "23 % 13 = 10\n",
      "23 % 14 = 9\n",
      "23 % 15 = 8\n",
      "23 % 16 = 7\n",
      "23 % 17 = 6\n",
      "23 % 18 = 5\n",
      "23 % 19 = 4\n",
      "23 % 20 = 3\n",
      "23 % 21 = 2\n",
      "23 % 22 = 1\n",
      "23\n",
      "24 % 2 = 0\n",
      "25 % 2 = 1\n",
      "25 % 3 = 1\n",
      "25 % 4 = 1\n",
      "25 % 5 = 0\n",
      "26 % 2 = 0\n",
      "27 % 2 = 1\n",
      "27 % 3 = 0\n",
      "28 % 2 = 0\n",
      "29 % 2 = 1\n",
      "29 % 3 = 2\n",
      "29 % 4 = 1\n",
      "29 % 5 = 4\n",
      "29 % 6 = 5\n",
      "29 % 7 = 1\n",
      "29 % 8 = 5\n",
      "29 % 9 = 2\n",
      "29 % 10 = 9\n",
      "29 % 11 = 7\n",
      "29 % 12 = 5\n",
      "29 % 13 = 3\n",
      "29 % 14 = 1\n",
      "29 % 15 = 14\n",
      "29 % 16 = 13\n",
      "29 % 17 = 12\n",
      "29 % 18 = 11\n",
      "29 % 19 = 10\n",
      "29 % 20 = 9\n",
      "29 % 21 = 8\n",
      "29 % 22 = 7\n",
      "29 % 23 = 6\n",
      "29 % 24 = 5\n",
      "29 % 25 = 4\n",
      "29 % 26 = 3\n",
      "29 % 27 = 2\n",
      "29 % 28 = 1\n",
      "29\n",
      "30 % 2 = 0\n",
      "Se hicieron 135 ciclos\n"
     ]
    }
   ],
   "source": [
    "# Print prime numbers from 0 to 30\n",
    "ciclo = 0\n",
    "for i in range(2, 31):\n",
    "  for j in range(2, i):\n",
    "    ciclo += 1\n",
    "    print(f\"{i} % {j} = {i % j}\")\n",
    "    if (i % j == 0):\n",
    "      break\n",
    "  else:\n",
    "    print(i)\n",
    "print(f\"Se hicieron {ciclo} ciclos\")"
   ]
  },
  {
   "attachments": {},
   "cell_type": "markdown",
   "metadata": {},
   "source": [
    "10. ¿Se puede mejorar el proceso del punto 9? Utilizar las sentencias break y/ó continue para tal fin"
   ]
  },
  {
   "cell_type": "code",
   "execution_count": 23,
   "metadata": {},
   "outputs": [
    {
     "name": "stdout",
     "output_type": "stream",
     "text": [
      "2\n",
      "3\n",
      "5\n",
      "7\n",
      "11\n",
      "13\n",
      "17\n",
      "19\n",
      "23\n",
      "29\n",
      "El numero de ciclos es 135\n"
     ]
    }
   ],
   "source": [
    "ciclo = 0\n",
    "for i in range(2, 31):\n",
    "  for j in range(2, i):\n",
    "    ciclo += 1\n",
    "    if (i % j == 0):\n",
    "      break\n",
    "  else:\n",
    "    print(i)\n",
    "print(f\"El numero de ciclos es {ciclo}\")"
   ]
  },
  {
   "attachments": {},
   "cell_type": "markdown",
   "metadata": {},
   "source": [
    "11. En los puntos 9 y 10, se diseño un código que encuentra números primos y además se lo optimizó. ¿Es posible saber en qué medida se optimizó?"
   ]
  },
  {
   "attachments": {},
   "cell_type": "markdown",
   "metadata": {},
   "source": [
    "Esta lo mas optimizado posible"
   ]
  },
  {
   "attachments": {},
   "cell_type": "markdown",
   "metadata": {},
   "source": [
    "12. Si la cantidad de números que se evalúa es mayor a treinta, esa optimización crece?"
   ]
  },
  {
   "cell_type": "code",
   "execution_count": 24,
   "metadata": {},
   "outputs": [
    {
     "name": "stdout",
     "output_type": "stream",
     "text": [
      "2\n",
      "3\n",
      "5\n",
      "7\n",
      "11\n",
      "13\n",
      "17\n",
      "19\n",
      "23\n",
      "29\n",
      "31\n",
      "37\n",
      "41\n",
      "43\n",
      "47\n",
      "53\n",
      "59\n",
      "61\n",
      "67\n",
      "71\n",
      "73\n",
      "79\n",
      "83\n",
      "89\n",
      "97\n",
      "El numero de ciclos es 1132\n"
     ]
    }
   ],
   "source": [
    "ciclo = 0\n",
    "for i in range(2, 100):\n",
    "  for j in range(2, i):\n",
    "    ciclo += 1\n",
    "    if (i % j == 0):\n",
    "      break\n",
    "  else:\n",
    "    print(i)\n",
    "print(f\"El numero de ciclos es {ciclo}\")"
   ]
  },
  {
   "attachments": {},
   "cell_type": "markdown",
   "metadata": {},
   "source": [
    "Si crece"
   ]
  },
  {
   "attachments": {},
   "cell_type": "markdown",
   "metadata": {},
   "source": [
    "13. Aplicando continue, armar un ciclo while que solo imprima los valores divisibles por 12, dentro del rango de números de 100 a 300"
   ]
  },
  {
   "cell_type": "code",
   "execution_count": 21,
   "metadata": {},
   "outputs": [
    {
     "name": "stdout",
     "output_type": "stream",
     "text": [
      "108\n",
      "120\n",
      "132\n",
      "144\n",
      "156\n",
      "168\n",
      "180\n",
      "192\n",
      "204\n",
      "216\n",
      "228\n",
      "240\n",
      "252\n",
      "264\n",
      "276\n",
      "288\n",
      "300\n"
     ]
    }
   ],
   "source": [
    "# Print values from 100 to 300 that are divisible by 12, use continue\n",
    "while True:\n",
    "  for i in range(100, 301):\n",
    "    if (i % 12 == 0):\n",
    "      print(i)\n",
    "    else:\n",
    "      continue\n",
    "  break"
   ]
  },
  {
   "attachments": {},
   "cell_type": "markdown",
   "metadata": {},
   "source": [
    "14. Utilizar la función input() que permite hacer ingresos por teclado, para encontrar números primos y dar la opción al usuario de buscar el siguiente"
   ]
  },
  {
   "cell_type": "code",
   "execution_count": 3,
   "metadata": {},
   "outputs": [
    {
     "name": "stdout",
     "output_type": "stream",
     "text": [
      "1\n",
      "¿Desea encontrar el siguiente número primo?\n",
      "2\n",
      "¿Desea encontrar el siguiente número primo?\n",
      "3\n",
      "¿Desea encontrar el siguiente número primo?\n",
      "5\n",
      "¿Desea encontrar el siguiente número primo?\n",
      "7\n",
      "¿Desea encontrar el siguiente número primo?\n",
      "11\n",
      "¿Desea encontrar el siguiente número primo?\n",
      "13\n",
      "¿Desea encontrar el siguiente número primo?\n",
      "17\n",
      "¿Desea encontrar el siguiente número primo?\n",
      "19\n",
      "¿Desea encontrar el siguiente número primo?\n",
      "Se finaliza el proceso\n"
     ]
    }
   ],
   "source": [
    "n = 1\n",
    "sigue = 1\n",
    "primo = True\n",
    "while (sigue == 1):\n",
    "    for div in range(2, n):\n",
    "        if (n % div == 0):\n",
    "            primo = False\n",
    "            break\n",
    "    if (primo):\n",
    "        print(n)\n",
    "        print('¿Desea encontrar el siguiente número primo?')\n",
    "        if (input() != '1'):\n",
    "            print('Se finaliza el proceso')\n",
    "            break\n",
    "    else:\n",
    "        primo = True\n",
    "    n += 1"
   ]
  },
  {
   "attachments": {},
   "cell_type": "markdown",
   "metadata": {},
   "source": [
    "15. Crear un ciclo while que encuentre dentro del rango de 100 a 300 el primer número divisible por 3 y además múltiplo de 6"
   ]
  },
  {
   "cell_type": "code",
   "execution_count": 8,
   "metadata": {},
   "outputs": [
    {
     "name": "stdout",
     "output_type": "stream",
     "text": [
      "102\n"
     ]
    }
   ],
   "source": [
    "# Create a while loop that finds the first number divisible by 3 and 6 between 100 and 300\n",
    "while True:\n",
    "  for i in range(100, 301):\n",
    "    if (i % 3 == 0 and i % 6 == 0):\n",
    "      print(i)\n",
    "      break\n",
    "  break"
   ]
  }
 ],
 "metadata": {
  "kernelspec": {
   "display_name": "Python 3",
   "language": "python",
   "name": "python3"
  },
  "language_info": {
   "codemirror_mode": {
    "name": "ipython",
    "version": 3
   },
   "file_extension": ".py",
   "mimetype": "text/x-python",
   "name": "python",
   "nbconvert_exporter": "python",
   "pygments_lexer": "ipython3",
   "version": "3.10.8"
  },
  "orig_nbformat": 4,
  "vscode": {
   "interpreter": {
    "hash": "e7370f93d1d0cde622a1f8e1c04877d8463912d04d973331ad4851f04de6915a"
   }
  }
 },
 "nbformat": 4,
 "nbformat_minor": 2
}
