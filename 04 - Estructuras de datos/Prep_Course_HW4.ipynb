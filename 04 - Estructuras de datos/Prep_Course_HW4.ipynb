{
 "cells": [
  {
   "attachments": {},
   "cell_type": "markdown",
   "metadata": {},
   "source": [
    "1. Crear una lista que contenga nombres de ciudades del mundo que contenga más de 5 elementos e imprimir por pantalla"
   ]
  },
  {
   "cell_type": "code",
   "execution_count": 46,
   "metadata": {},
   "outputs": [
    {
     "name": "stdout",
     "output_type": "stream",
     "text": [
      "['New York', 'London', 'Paris', 'Tokyo', 'Sydney']\n"
     ]
    }
   ],
   "source": [
    "# Create a list of 5 cities of the world and print it\n",
    "cities = ['New York', 'London', 'Paris', 'Tokyo', 'Sydney']\n",
    "print(cities)\n"
   ]
  },
  {
   "attachments": {},
   "cell_type": "markdown",
   "metadata": {},
   "source": [
    "2. Imprimir por pantalla el segundo elemento de la lista\n"
   ]
  },
  {
   "cell_type": "code",
   "execution_count": 35,
   "metadata": {},
   "outputs": [
    {
     "name": "stdout",
     "output_type": "stream",
     "text": [
      "['New York', 'London', 'Paris', 'Tokyo', 'Sydney']\n",
      "London\n"
     ]
    }
   ],
   "source": [
    "print(cities)\n",
    "print(cities[1])"
   ]
  },
  {
   "attachments": {},
   "cell_type": "markdown",
   "metadata": {},
   "source": [
    "3. Imprimir por pantalla del segundo al cuarto elemento\n"
   ]
  },
  {
   "cell_type": "code",
   "execution_count": 36,
   "metadata": {},
   "outputs": [
    {
     "name": "stdout",
     "output_type": "stream",
     "text": [
      "['New York', 'London', 'Paris', 'Tokyo', 'Sydney']\n",
      "['London', 'Paris', 'Tokyo']\n"
     ]
    }
   ],
   "source": [
    "print(cities)\n",
    "print(cities[1:4])"
   ]
  },
  {
   "attachments": {},
   "cell_type": "markdown",
   "metadata": {},
   "source": [
    "4. Visualizar el tipo de dato de la lista"
   ]
  },
  {
   "cell_type": "code",
   "execution_count": 37,
   "metadata": {},
   "outputs": [
    {
     "name": "stdout",
     "output_type": "stream",
     "text": [
      "['New York', 'London', 'Paris', 'Tokyo', 'Sydney']\n",
      "<class 'list'>\n"
     ]
    }
   ],
   "source": [
    "print(cities)\n",
    "print(type(cities))"
   ]
  },
  {
   "attachments": {},
   "cell_type": "markdown",
   "metadata": {},
   "source": [
    "5. Visualizar todos los elementos de la lista a partir del tercero de manera genérica, es decir, sin explicitar la posición del último elemento"
   ]
  },
  {
   "cell_type": "code",
   "execution_count": 38,
   "metadata": {},
   "outputs": [
    {
     "name": "stdout",
     "output_type": "stream",
     "text": [
      "['New York', 'London', 'Paris', 'Tokyo', 'Sydney']\n",
      "['Paris', 'Tokyo', 'Sydney']\n"
     ]
    }
   ],
   "source": [
    "print(cities)\n",
    "print(cities[2:])"
   ]
  },
  {
   "attachments": {},
   "cell_type": "markdown",
   "metadata": {},
   "source": [
    "6. Visualizar los primeros 4 elementos de la lista"
   ]
  },
  {
   "cell_type": "code",
   "execution_count": 39,
   "metadata": {},
   "outputs": [
    {
     "name": "stdout",
     "output_type": "stream",
     "text": [
      "['New York', 'London', 'Paris', 'Tokyo', 'Sydney']\n",
      "['New York', 'London', 'Paris', 'Tokyo']\n"
     ]
    }
   ],
   "source": [
    "print(cities)\n",
    "print(cities[:4])"
   ]
  },
  {
   "attachments": {},
   "cell_type": "markdown",
   "metadata": {},
   "source": [
    "7. Agregar una ciudad más a la lista que ya exista y otra que no ¿Arroja algún tipo de error?"
   ]
  },
  {
   "cell_type": "code",
   "execution_count": 51,
   "metadata": {},
   "outputs": [
    {
     "name": "stdout",
     "output_type": "stream",
     "text": [
      "['New York', 'London', 'Paris', 'Tokyo', 'Sydney']\n",
      "['New York', 'London', 'Paris', 'Tokyo', 'Sydney', 'London', 'Dubai']\n"
     ]
    }
   ],
   "source": [
    "cities = ['New York', 'London', 'Paris', 'Tokyo', 'Sydney']\n",
    "print(cities)\n",
    "cities = cities + [\"London\", \"Dubai\"]\n",
    "print(cities)\n",
    "# No marca error"
   ]
  },
  {
   "attachments": {},
   "cell_type": "markdown",
   "metadata": {},
   "source": [
    "8. Agregar otra ciudad, pero en la cuarta posición"
   ]
  },
  {
   "cell_type": "code",
   "execution_count": null,
   "metadata": {},
   "outputs": [],
   "source": [
    "cities = ['New York', 'London', 'Paris', 'Tokyo', 'Sydney', 'London', 'Dubai']\n",
    "cities = cities."
   ]
  }
 ],
 "metadata": {
  "kernelspec": {
   "display_name": "Python 3",
   "language": "python",
   "name": "python3"
  },
  "language_info": {
   "codemirror_mode": {
    "name": "ipython",
    "version": 3
   },
   "file_extension": ".py",
   "mimetype": "text/x-python",
   "name": "python",
   "nbconvert_exporter": "python",
   "pygments_lexer": "ipython3",
   "version": "3.10.8"
  },
  "orig_nbformat": 4,
  "vscode": {
   "interpreter": {
    "hash": "e7370f93d1d0cde622a1f8e1c04877d8463912d04d973331ad4851f04de6915a"
   }
  }
 },
 "nbformat": 4,
 "nbformat_minor": 2
}
