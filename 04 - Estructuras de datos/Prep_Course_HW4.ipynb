{
 "cells": [
  {
   "attachments": {},
   "cell_type": "markdown",
   "metadata": {},
   "source": [
    "1. Crear una lista que contenga nombres de ciudades del mundo que contenga más de 5 elementos e imprimir por pantalla"
   ]
  },
  {
   "cell_type": "code",
   "execution_count": 3,
   "metadata": {},
   "outputs": [
    {
     "name": "stdout",
     "output_type": "stream",
     "text": [
      "['New York', 'London', 'Paris', 'Tokyo', 'Sydney']\n"
     ]
    }
   ],
   "source": [
    "# Create a list of 5 cities of the world and print it\n",
    "cities = ['New York', 'London', 'Paris', 'Tokyo', 'Sydney']\n",
    "print(cities)\n"
   ]
  },
  {
   "attachments": {},
   "cell_type": "markdown",
   "metadata": {},
   "source": [
    "2. Imprimir por pantalla el segundo elemento de la lista\n"
   ]
  },
  {
   "cell_type": "code",
   "execution_count": 5,
   "metadata": {},
   "outputs": [
    {
     "name": "stdout",
     "output_type": "stream",
     "text": [
      "['New York', 'London', 'Paris', 'Tokyo', 'Sydney']\n",
      "London\n"
     ]
    }
   ],
   "source": [
    "print(cities)\n",
    "print(cities[1])"
   ]
  },
  {
   "attachments": {},
   "cell_type": "markdown",
   "metadata": {},
   "source": [
    "3. Imprimir por pantalla del segundo al cuarto elemento\n"
   ]
  },
  {
   "cell_type": "code",
   "execution_count": 6,
   "metadata": {},
   "outputs": [
    {
     "name": "stdout",
     "output_type": "stream",
     "text": [
      "['New York', 'London', 'Paris', 'Tokyo', 'Sydney']\n",
      "['London', 'Paris', 'Tokyo']\n"
     ]
    }
   ],
   "source": [
    "print(cities)\n",
    "print(cities[1:4])"
   ]
  },
  {
   "attachments": {},
   "cell_type": "markdown",
   "metadata": {},
   "source": [
    "4. Visualizar el tipo de dato de la lista"
   ]
  },
  {
   "cell_type": "code",
   "execution_count": 7,
   "metadata": {},
   "outputs": [
    {
     "name": "stdout",
     "output_type": "stream",
     "text": [
      "['New York', 'London', 'Paris', 'Tokyo', 'Sydney']\n",
      "<class 'list'>\n"
     ]
    }
   ],
   "source": [
    "print(cities)\n",
    "print(type(cities))"
   ]
  },
  {
   "attachments": {},
   "cell_type": "markdown",
   "metadata": {},
   "source": [
    "5. Visualizar todos los elementos de la lista a partir del tercero de manera genérica, es decir, sin explicitar la posición del último elemento"
   ]
  },
  {
   "cell_type": "code",
   "execution_count": 8,
   "metadata": {},
   "outputs": [
    {
     "name": "stdout",
     "output_type": "stream",
     "text": [
      "['New York', 'London', 'Paris', 'Tokyo', 'Sydney']\n",
      "['Paris', 'Tokyo', 'Sydney']\n"
     ]
    }
   ],
   "source": [
    "print(cities)\n",
    "print(cities[2:])"
   ]
  },
  {
   "attachments": {},
   "cell_type": "markdown",
   "metadata": {},
   "source": [
    "6. Visualizar los primeros 4 elementos de la lista"
   ]
  },
  {
   "cell_type": "code",
   "execution_count": 9,
   "metadata": {},
   "outputs": [
    {
     "name": "stdout",
     "output_type": "stream",
     "text": [
      "['New York', 'London', 'Paris', 'Tokyo', 'Sydney']\n",
      "['New York', 'London', 'Paris', 'Tokyo']\n"
     ]
    }
   ],
   "source": [
    "print(cities)\n",
    "print(cities[:4])"
   ]
  },
  {
   "attachments": {},
   "cell_type": "markdown",
   "metadata": {},
   "source": [
    "7. Agregar una ciudad más a la lista que ya exista y otra que no ¿Arroja algún tipo de error?"
   ]
  },
  {
   "cell_type": "code",
   "execution_count": 54,
   "metadata": {},
   "outputs": [
    {
     "name": "stdout",
     "output_type": "stream",
     "text": [
      "['New York', 'London', 'Paris', 'Tokyo', 'Sydney']\n",
      "['New York', 'London', 'Paris', 'Tokyo', 'Sydney', 'London', 'Dubai']\n"
     ]
    }
   ],
   "source": [
    "cities = ['New York', 'London', 'Paris', 'Tokyo', 'Sydney']\n",
    "print(cities)\n",
    "cities = cities + [\"London\", \"Dubai\"]\n",
    "print(cities)\n",
    "# No marca error\n",
    "cities_dup = cities\n"
   ]
  },
  {
   "attachments": {},
   "cell_type": "markdown",
   "metadata": {},
   "source": [
    "8. Agregar otra ciudad, pero en la cuarta posición"
   ]
  },
  {
   "cell_type": "code",
   "execution_count": 55,
   "metadata": {},
   "outputs": [
    {
     "name": "stdout",
     "output_type": "stream",
     "text": [
      "['New York', 'London', 'Paris', 'Berlin', 'Tokyo', 'Sydney', 'London', 'Dubai']\n"
     ]
    }
   ],
   "source": [
    "cities = ['New York', 'London', 'Paris', 'Tokyo', 'Sydney', 'London', 'Dubai']\n",
    "cities.insert(3, \"Berlin\")\n",
    "print(cities)"
   ]
  },
  {
   "attachments": {},
   "cell_type": "markdown",
   "metadata": {},
   "source": [
    "9. Concatenar otra lista a la ya creada"
   ]
  },
  {
   "cell_type": "code",
   "execution_count": 56,
   "metadata": {},
   "outputs": [
    {
     "name": "stdout",
     "output_type": "stream",
     "text": [
      "['New York', 'London', 'Paris', 'Berlin', 'Tokyo', 'Sydney', 'London', 'Dubai', 'CDMX', 'Buenos Aires', 'Santiago']\n"
     ]
    }
   ],
   "source": [
    "cities_2 = ['CDMX', 'Buenos Aires', 'Santiago']\n",
    "cities_all = cities + cities_2\n",
    "print(cities_all)"
   ]
  },
  {
   "attachments": {},
   "cell_type": "markdown",
   "metadata": {},
   "source": [
    "10. Encontrar el índice de la ciudad que en el punto 7 agregamos duplicada. ¿Se nota alguna particularidad?"
   ]
  },
  {
   "cell_type": "code",
   "execution_count": 57,
   "metadata": {},
   "outputs": [
    {
     "name": "stdout",
     "output_type": "stream",
     "text": [
      "['New York', 'London', 'Paris', 'Tokyo', 'Sydney', 'London', 'Dubai']\n",
      "1\n",
      "True\n"
     ]
    }
   ],
   "source": [
    "print(cities_dup)\n",
    "print(cities_dup.index(\"London\"))\n",
    "print(\"London\" in cities_dup)\n",
    "# Solo muestra el primer indice"
   ]
  },
  {
   "attachments": {},
   "cell_type": "markdown",
   "metadata": {},
   "source": [
    "11. ¿Qué pasa si se busca un elemento que no existe?"
   ]
  },
  {
   "cell_type": "code",
   "execution_count": 23,
   "metadata": {},
   "outputs": [
    {
     "ename": "ValueError",
     "evalue": "'Monte Video' is not in list",
     "output_type": "error",
     "traceback": [
      "\u001b[0;31m---------------------------------------------------------------------------\u001b[0m",
      "\u001b[0;31mValueError\u001b[0m                                Traceback (most recent call last)",
      "Cell \u001b[0;32mIn[23], line 1\u001b[0m\n\u001b[0;32m----> 1\u001b[0m \u001b[39mprint\u001b[39m(cities_dup\u001b[39m.\u001b[39;49mindex(\u001b[39m\"\u001b[39;49m\u001b[39mMonte Video\u001b[39;49m\u001b[39m\"\u001b[39;49m))\n\u001b[1;32m      2\u001b[0m \u001b[39m# Te indica que el elemento no esta en la lista\u001b[39;00m\n",
      "\u001b[0;31mValueError\u001b[0m: 'Monte Video' is not in list"
     ]
    }
   ],
   "source": [
    "print(cities_dup.index(\"Monte Video\"))\n",
    "# Te indica que el elemento no esta en la lista"
   ]
  },
  {
   "attachments": {},
   "cell_type": "markdown",
   "metadata": {},
   "source": [
    "12. Eliminar un elemento de la lista"
   ]
  },
  {
   "cell_type": "code",
   "execution_count": 25,
   "metadata": {},
   "outputs": [
    {
     "name": "stdout",
     "output_type": "stream",
     "text": [
      "['New York', 'Paris', 'Tokyo', 'Sydney', 'Dubai']\n"
     ]
    }
   ],
   "source": [
    "cities_dup.remove(\"London\")\n",
    "print(cities_dup)"
   ]
  },
  {
   "attachments": {},
   "cell_type": "markdown",
   "metadata": {},
   "source": [
    "13. ¿Qué pasa si el elemento a eliminar no existe?"
   ]
  },
  {
   "cell_type": "code",
   "execution_count": 28,
   "metadata": {},
   "outputs": [
    {
     "ename": "ValueError",
     "evalue": "list.remove(x): x not in list",
     "output_type": "error",
     "traceback": [
      "\u001b[0;31m---------------------------------------------------------------------------\u001b[0m",
      "\u001b[0;31mValueError\u001b[0m                                Traceback (most recent call last)",
      "Cell \u001b[0;32mIn[28], line 1\u001b[0m\n\u001b[0;32m----> 1\u001b[0m cities_dup\u001b[39m.\u001b[39;49mremove(\u001b[39m\"\u001b[39;49m\u001b[39mQuito\u001b[39;49m\u001b[39m\"\u001b[39;49m)\n\u001b[1;32m      2\u001b[0m \u001b[39m# Te indica que el elemento no esta en la lista\u001b[39;00m\n",
      "\u001b[0;31mValueError\u001b[0m: list.remove(x): x not in list"
     ]
    }
   ],
   "source": [
    "cities_dup.remove(\"Quito\")\n",
    "# Te indica que el elemento no esta en la lista"
   ]
  },
  {
   "attachments": {},
   "cell_type": "markdown",
   "metadata": {},
   "source": [
    "14. Extraer el último elemento de la lista, guardarlo en una variable e imprimirlo"
   ]
  },
  {
   "cell_type": "code",
   "execution_count": 30,
   "metadata": {},
   "outputs": [
    {
     "data": {
      "text/plain": [
       "'Sydney'"
      ]
     },
     "execution_count": 30,
     "metadata": {},
     "output_type": "execute_result"
    }
   ],
   "source": [
    "last = cities_dup.pop()\n",
    "last"
   ]
  },
  {
   "attachments": {},
   "cell_type": "markdown",
   "metadata": {},
   "source": [
    "15. Mostrar la lista multiplicada por 4"
   ]
  },
  {
   "cell_type": "code",
   "execution_count": 33,
   "metadata": {},
   "outputs": [
    {
     "name": "stdout",
     "output_type": "stream",
     "text": [
      "['New York', 'Paris', 'Tokyo', 'New York', 'Paris', 'Tokyo', 'New York', 'Paris', 'Tokyo', 'New York', 'Paris', 'Tokyo']\n",
      "Sydney\n"
     ]
    }
   ],
   "source": [
    "print(cities_dup * 4)\n",
    "print(last)"
   ]
  },
  {
   "attachments": {},
   "cell_type": "markdown",
   "metadata": {},
   "source": [
    "16. Crear una tupla que contenga los números enteros del 1 al 20"
   ]
  },
  {
   "cell_type": "code",
   "execution_count": 45,
   "metadata": {},
   "outputs": [
    {
     "name": "stdout",
     "output_type": "stream",
     "text": [
      "(1, 2, 3, 4, 5, 6, 7, 8, 9, 10, 11, 12, 13, 14, 15, 16, 17, 18, 19, 20)\n",
      "<class 'tuple'>\n"
     ]
    }
   ],
   "source": [
    "tuple_1 = tuple(range(1,21))\n",
    "print(tuple_1)\n",
    "print(type(tuple_1))"
   ]
  },
  {
   "attachments": {},
   "cell_type": "markdown",
   "metadata": {},
   "source": [
    "17. Imprimir desde el índice 10 al 15 de la tupla"
   ]
  },
  {
   "cell_type": "code",
   "execution_count": 42,
   "metadata": {},
   "outputs": [
    {
     "name": "stdout",
     "output_type": "stream",
     "text": [
      "(11, 12, 13, 14, 15, 16)\n"
     ]
    }
   ],
   "source": [
    "print(tuple_1[10:16])"
   ]
  },
  {
   "attachments": {},
   "cell_type": "markdown",
   "metadata": {},
   "source": [
    "18. Evaluar si los números 20 y 30 están dentro de la tupla"
   ]
  },
  {
   "cell_type": "code",
   "execution_count": 58,
   "metadata": {},
   "outputs": [
    {
     "name": "stdout",
     "output_type": "stream",
     "text": [
      "True\n",
      "False\n"
     ]
    }
   ],
   "source": [
    "print(20 in tuple_1)\n",
    "print(30 in tuple_1)"
   ]
  },
  {
   "attachments": {},
   "cell_type": "markdown",
   "metadata": {},
   "source": [
    "19. Con la lista creada en el punto 1, validar la existencia del elemento 'París' y si no existe, agregarlo. Utilizar una variable e informar lo sucedido."
   ]
  },
  {
   "cell_type": "code",
   "execution_count": 88,
   "metadata": {},
   "outputs": [
    {
     "name": "stdout",
     "output_type": "stream",
     "text": [
      "El elemento Sydney ya se encuentra en la lista\n"
     ]
    }
   ],
   "source": [
    "cities_fin = ['New York', 'London', 'Monaco', 'Tokyo', 'Sydney']\n",
    "elem = str(input(\"Introduce una ciudad del mundo: \"))\n",
    "if (not(elem in list(cities_fin))):\n",
    "  print(f\"El elemento {elem} se ha agregado\")\n",
    "  cities_fin.append(elem)\n",
    "  print(cities_fin)\n",
    "else:\n",
    "  print(f\"El elemento {elem} ya se encuentra en la lista\")"
   ]
  },
  {
   "attachments": {},
   "cell_type": "markdown",
   "metadata": {},
   "source": [
    "20. Mostrar la cantidad de veces que se encuentra un elemento específico dentro de la tupla y de la lista"
   ]
  },
  {
   "cell_type": "code",
   "execution_count": 96,
   "metadata": {},
   "outputs": [
    {
     "name": "stdout",
     "output_type": "stream",
     "text": [
      "9\n",
      "4\n",
      "['New York', 'London', 'Monaco', 'Tokyo', 'Sydney', 'Paris', 'New York', 'London', 'Monaco', 'Tokyo', 'Sydney', 'Paris', 'New York', 'London', 'Monaco', 'Tokyo', 'Sydney', 'Paris', 'New York', 'London', 'Monaco', 'Tokyo', 'Sydney', 'Paris', 'New York', 'New York', 'New York', 'New York', 'New York']\n"
     ]
    }
   ],
   "source": [
    "cities_fin = cities_last\n",
    "\n",
    "cities_last.append(\"New York\")\n",
    "print(cities_last.count(\"New York\"))\n",
    "print(cities_last.count(\"Paris\"))\n",
    "print(cities_last)\n"
   ]
  },
  {
   "cell_type": "code",
   "execution_count": null,
   "metadata": {},
   "outputs": [],
   "source": []
  }
 ],
 "metadata": {
  "kernelspec": {
   "display_name": "Python 3",
   "language": "python",
   "name": "python3"
  },
  "language_info": {
   "codemirror_mode": {
    "name": "ipython",
    "version": 3
   },
   "file_extension": ".py",
   "mimetype": "text/x-python",
   "name": "python",
   "nbconvert_exporter": "python",
   "pygments_lexer": "ipython3",
   "version": "3.10.8"
  },
  "orig_nbformat": 4,
  "vscode": {
   "interpreter": {
    "hash": "e7370f93d1d0cde622a1f8e1c04877d8463912d04d973331ad4851f04de6915a"
   }
  }
 },
 "nbformat": 4,
 "nbformat_minor": 2
}
