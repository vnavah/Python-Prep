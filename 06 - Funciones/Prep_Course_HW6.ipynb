{
 "cells": [
  {
   "cell_type": "code",
   "execution_count": 52,
   "metadata": {},
   "outputs": [],
   "source": [
    "def factorial(num):\n",
    "  #*Devuelve el factorial de un número\n",
    "  \n",
    "  if num > 1:\n",
    "    num = num * factorial(num - 1)\n",
    "  return num\n",
    "\n",
    "x = int(input(\"Ingrese un número: \"))\n",
    "factorial(x)"
   ]
  },
  {
   "cell_type": "code",
   "execution_count": null,
   "metadata": {},
   "outputs": [
    {
     "data": {
      "text/plain": [
       "6"
      ]
     },
     "execution_count": 44,
     "metadata": {},
     "output_type": "execute_result"
    }
   ],
   "source": [
    "producto = lambda x, y: x * y\n",
    "producto(2, 3)"
   ]
  },
  {
   "attachments": {},
   "cell_type": "markdown",
   "metadata": {},
   "source": [
    "1. Crear una función que reciba un número como parámetro y devuelva True si es primo y False si no lo es\n"
   ]
  },
  {
   "cell_type": "code",
   "execution_count": 103,
   "metadata": {},
   "outputs": [
    {
     "name": "stdout",
     "output_type": "stream",
     "text": [
      "True\n"
     ]
    }
   ],
   "source": [
    "\n",
    "\n",
    "def prime(i):\n",
    "  if i == 1 or i == 0:\n",
    "    return False\n",
    "  elif i == 2:\n",
    "    return True\n",
    "  elif i >1:\n",
    "    for n in range(2, i):\n",
    "      if (i % n) == 0:\n",
    "        return False\n",
    "      else:\n",
    "        return True\n",
    "      \n",
    "\n",
    "x = int(input(\"Ingrese un número: \"))\n",
    "print(prime(x))\n"
   ]
  },
  {
   "attachments": {},
   "cell_type": "markdown",
   "metadata": {},
   "source": [
    "2. Utilizando la función del punto 1, realizar otra función que reciba de parámetro una lista de números y devuelva sólo aquellos que son primos en otra lista"
   ]
  },
  {
   "cell_type": "code",
   "execution_count": 104,
   "metadata": {},
   "outputs": [
    {
     "data": {
      "text/plain": [
       "[2, 3, 5, 7, 9, 11, 13, 15, 17, 19]"
      ]
     },
     "execution_count": 104,
     "metadata": {},
     "output_type": "execute_result"
    }
   ],
   "source": [
    "def extract_prime(list):\n",
    "  prime_list = []\n",
    "  for i in list:\n",
    "    if prime(int(i)):\n",
    "      prime_list.append(i)\n",
    "  return prime_list\n",
    "\n",
    "\n",
    "numbers = [0, 1, 2, 3, 4, 5, 6, 7, 8, 9, 10, 11, 12, 13, 14, 15, 16, 17, 18, 19, 20]\n",
    "extract_prime(numbers)"
   ]
  },
  {
   "attachments": {},
   "cell_type": "markdown",
   "metadata": {},
   "source": [
    "3. Crea una función que al recibir una lista de números, devuelva el que más se repite y cuántas veces lo hace. Si hay más de un \"más repetido\", que devuelva cualquiera"
   ]
  },
  {
   "cell_type": "code",
   "execution_count": 105,
   "metadata": {},
   "outputs": [
    {
     "name": "stdout",
     "output_type": "stream",
     "text": [
      "El valor modal es 1 y se repite 5 veces\n"
     ]
    }
   ],
   "source": [
    "def valor_modal(lista):\n",
    "  lista_únicos = []\n",
    "  lista_reps = []\n",
    "  \n",
    "  if len(lista) == 0:\n",
    "    return None\n",
    "  \n",
    "  for i in lista:\n",
    "    if i in lista_únicos:\n",
    "      i = lista_únicos.index(i)\n",
    "      lista_reps[i] += 1\n",
    "    else:\n",
    "      lista_únicos.append(i)\n",
    "      lista_reps.append(1)\n",
    "  \n",
    "  moda = lista_únicos[0]\n",
    "  máximo = lista_reps[0]\n",
    "  \n",
    "  for i, j in enumerate(lista_únicos):\n",
    "    if lista_reps[i] > máximo:\n",
    "      moda = lista_únicos[i]\n",
    "      máximo = lista_reps[i]\n",
    "  return moda, máximo\n",
    "\n",
    "\n",
    "lis = [1, 1, 1, 1, 1, 5, 5, 5, 6, 8, 8, 10, 22, 5, 6, 6, 6, 4, 11, 9, 5]\n",
    "num, high = valor_modal(lis)\n",
    "print(f\"El valor modal es {num} y se repite {high} veces\")\n"
   ]
  },
  {
   "cell_type": "code",
   "execution_count": 106,
   "metadata": {},
   "outputs": [
    {
     "name": "stdout",
     "output_type": "stream",
     "text": [
      "El valor modal es 1 y se repite 5 veces\n"
     ]
    }
   ],
   "source": [
    "#Create a function that takes a list of numbers and returns the most frequent and how many times it appears. If there are multiple numbers that appear the same amount of times, return the one that appears first in the list.\n",
    "def most_frequent(list):\n",
    "  high = 0\n",
    "  for i in list:\n",
    "    if list.count(i) > high:\n",
    "      high = list.count(i)\n",
    "      num = i\n",
    "  return num, high\n",
    "\n",
    "lis = [1,1,1,1,1,5,5,5,6,8,8,10,22,5,6,6,6,4,11,9,5]\n",
    "num, high = most_frequent(lis)\n",
    "print(f\"El valor modal es {num} y se repite {high} veces\")"
   ]
  },
  {
   "attachments": {},
   "cell_type": "markdown",
   "metadata": {},
   "source": [
    "4. A la función del punto 3, agregar un parámetro más, que permita elegir si se requiere el menor o el mayor de los mas repetidos."
   ]
  },
  {
   "cell_type": "code",
   "execution_count": 122,
   "metadata": {},
   "outputs": [
    {
     "name": "stdout",
     "output_type": "stream",
     "text": [
      "El valor modal es 5 y se repite 3 veces\n",
      "El valor modal es 10 y se repite 3 veces\n"
     ]
    }
   ],
   "source": [
    "def valor_modal(lista, menor):\n",
    "  '''\n",
    "  Esta función devuelve el valor modal y recibe dor parámetros.\n",
    "  1. lista: es una lista de números.\n",
    "  2. Verdadero por defecto, por si requiere el menor de los numero mas repedidos, o Falso si requiere el mayor.\n",
    "  '''\n",
    "  \n",
    "  lista_únicos = []\n",
    "  lista_reps = []\n",
    "\n",
    "  if len(lista) == 0:\n",
    "    return None\n",
    "  \n",
    "  if menor:\n",
    "    lista.sort()\n",
    "  \n",
    "  else:\n",
    "    lista.sort(reverse=True)\n",
    "    \n",
    "  for i in lista:\n",
    "    if i in lista_únicos:\n",
    "      i = lista_únicos.index(i)\n",
    "      lista_reps[i] += 1\n",
    "    else:\n",
    "      lista_únicos.append(i)\n",
    "      lista_reps.append(1)\n",
    "\n",
    "  moda = lista_únicos[0]\n",
    "  máximo = lista_reps[0]\n",
    "\n",
    "  for i, j in enumerate(lista_únicos):\n",
    "    if lista_reps[i] > máximo:\n",
    "      moda = lista_únicos[i]\n",
    "      máximo = lista_reps[i]\n",
    "  return moda, máximo\n",
    "\n",
    "\n",
    "\n",
    "\n",
    "lis = [10, 1, 5, 6, 8, 10, 22, 5, 6, 4, 11, 10, 9, 5]\n",
    "moda, máximo = valor_modal(lis, True)\n",
    "print(f\"El valor modal es {moda} y se repite {máximo} veces\")\n",
    "\n",
    "lis = [10, 1, 5, 6, 8, 10, 22, 5, 6, 4, 11, 10, 9, 5]\n",
    "moda, máximo = valor_modal(lis, False)\n",
    "print(f\"El valor modal es {moda} y se repite {máximo} veces\")\n"
   ]
  },
  {
   "cell_type": "code",
   "execution_count": 123,
   "metadata": {},
   "outputs": [
    {
     "name": "stdout",
     "output_type": "stream",
     "text": [
      "Help on function valor_modal in module __main__:\n",
      "\n",
      "valor_modal(lista, menor)\n",
      "    Esta función devuelve el valor modal y recibe dor parámetros.\n",
      "    1. lista: es una lista de números.\n",
      "    2. Verdadero por defecto, por si requiere el menor de los numero mas repedidos, o Falso si requiere el mayor.\n",
      "\n"
     ]
    }
   ],
   "source": [
    "help(valor_modal)"
   ]
  },
  {
   "attachments": {},
   "cell_type": "markdown",
   "metadata": {},
   "source": [
    "5. Crear una función que convierta entre grados Celsius, Farenheit y Kelvin<br>\n",
    "Fórmula 1\t: (°C × 9/5) + 32 = °F<br>\n",
    "Fórmula 2\t: °C + 273.15 = °K<br>\n",
    "Debe recibir 3 parámetros: el valor, la medida de origen y la medida de destino"
   ]
  },
  {
   "cell_type": "code",
   "execution_count": 113,
   "metadata": {},
   "outputs": [
    {
     "name": "stdout",
     "output_type": "stream",
     "text": [
      "Help on function valor_modal in module __main__:\n",
      "\n",
      "valor_modal(lista, menor)\n",
      "    Esta función devuelve el valor modal y recibe dor parámetros.\n",
      "    1. lista: es una lista de números.\n",
      "    2. Verdadero por defecto, por si requiere el menor de los numero mas repedidos, o Falso si requiere el mayor.\n",
      "\n"
     ]
    }
   ],
   "source": [
    "\n",
    "def temp_conversion(temp, unit, unit_to):\n",
    "  if unit == \"C\" and unit_to == \"F\":\n",
    "    return temp * 9/5 + 32\n",
    "  elif unit == \"F\" and unit_to == \"C\":\n",
    "    return (temp - 32) * 5/9\n",
    "  elif unit == \"C\" and unit_to == \"K\":\n",
    "    return temp + 273.15\n",
    "  elif unit == \"K\" and unit_to == \"C\":\n",
    "    return temp - 273.15\n",
    "  elif unit == \"F\" and unit_to == \"K\":\n",
    "    return (temp - 32) * 5/9 + 273.15\n",
    "  elif unit == \"K\" and unit_to == \"F\":\n",
    "    return (temp - 273.15) * 9/5 + 32\n",
    "  else:\n",
    "    return temp\n"
   ]
  },
  {
   "cell_type": "code",
   "execution_count": 86,
   "metadata": {},
   "outputs": [
    {
     "name": "stdout",
     "output_type": "stream",
     "text": [
      "1 grado Celsius a Celsius: 1\n",
      "1 grado Celsius a Kelvin: 274.15\n",
      "1 grado Celsius a Farenheit: 33.8\n",
      "1 grado Kelvin a Celsius: -272.15\n",
      "1 grado Kelvin a Kelvin: 1\n",
      "1 grado Kelvin a Farenheit: -457.87\n",
      "1 grado Farenheit a Celsius: -17.22222222222222\n",
      "1 grado Farenheit a Kelvin: 255.92777777777775\n",
      "1 grado Farenheit a Farenheit: 1\n"
     ]
    }
   ],
   "source": [
    "print('1 grado Celsius a Celsius:', temp_conversion(1, 'C', 'C'))\n",
    "print('1 grado Celsius a Kelvin:', temp_conversion(1, 'C', 'K'))\n",
    "print('1 grado Celsius a Farenheit:',\n",
    "      temp_conversion(1, 'C', 'F'))\n",
    "print('1 grado Kelvin a Celsius:', temp_conversion(1, 'K', 'C'))\n",
    "print('1 grado Kelvin a Kelvin:', temp_conversion(1, 'K', 'K'))\n",
    "print('1 grado Kelvin a Farenheit:', temp_conversion(1, 'K', 'F'))\n",
    "print('1 grado Farenheit a Celsius:',\n",
    "      temp_conversion(1, 'F', 'C'))\n",
    "print('1 grado Farenheit a Kelvin:', temp_conversion(1, 'F', 'K'))\n",
    "print('1 grado Farenheit a Farenheit:',\n",
    "      temp_conversion(1, 'F', 'F'))\n"
   ]
  },
  {
   "attachments": {},
   "cell_type": "markdown",
   "metadata": {},
   "source": [
    "6. Iterando una lista con los tres valores posibles de temperatura que recibe la función del punto 5, hacer un print para cada combinación de los mismos:"
   ]
  },
  {
   "cell_type": "code",
   "execution_count": 87,
   "metadata": {},
   "outputs": [
    {
     "name": "stdout",
     "output_type": "stream",
     "text": [
      "1 grado C a C: 1\n",
      "1 grado C a F: 33.8\n",
      "1 grado C a K: 274.15\n",
      "1 grado F a C: -17.22222222222222\n",
      "1 grado F a F: 1\n",
      "1 grado F a K: 255.92777777777775\n",
      "1 grado K a C: -272.15\n",
      "1 grado K a F: -457.87\n",
      "1 grado K a K: 1\n"
     ]
    }
   ],
   "source": [
    "metrics = ['C', 'F', 'K']\n",
    "for i in range(0 , 3):\n",
    "  for j in range(0, 3):\n",
    "    print(f'1 grado {metrics[i]} a {metrics[j]}: {temp_conversion(1, metrics[i], metrics[j])}')"
   ]
  },
  {
   "attachments": {},
   "cell_type": "markdown",
   "metadata": {},
   "source": [
    "7. Armar una función que devuelva el factorial de un número. Tener en cuenta que el usuario puede equivocarse y enviar de parámetro un número no entero o negativo"
   ]
  },
  {
   "cell_type": "code",
   "execution_count": 88,
   "metadata": {},
   "outputs": [
    {
     "name": "stdout",
     "output_type": "stream",
     "text": [
      "6\n",
      "El numero debe ser positivo\n",
      "El numero debe ser un entero\n",
      "El numero debe ser un entero\n"
     ]
    }
   ],
   "source": [
    "def factorial(numero):\n",
    "    if (type(numero) != int):\n",
    "        return 'El numero debe ser un entero'\n",
    "    if (numero < 0):\n",
    "        return 'El numero debe ser positivo'\n",
    "    if (numero > 1):\n",
    "        numero = numero * factorial(numero - 1)\n",
    "    return numero\n",
    "\n",
    "\n",
    "print(factorial(3))\n",
    "print(factorial(-2))\n",
    "print(factorial(1.23))\n",
    "print(factorial('6'))\n"
   ]
  }
 ],
 "metadata": {
  "kernelspec": {
   "display_name": "Python 3",
   "language": "python",
   "name": "python3"
  },
  "language_info": {
   "codemirror_mode": {
    "name": "ipython",
    "version": 3
   },
   "file_extension": ".py",
   "mimetype": "text/x-python",
   "name": "python",
   "nbconvert_exporter": "python",
   "pygments_lexer": "ipython3",
   "version": "3.10.9"
  },
  "orig_nbformat": 4,
  "vscode": {
   "interpreter": {
    "hash": "e7370f93d1d0cde622a1f8e1c04877d8463912d04d973331ad4851f04de6915a"
   }
  }
 },
 "nbformat": 4,
 "nbformat_minor": 2
}
