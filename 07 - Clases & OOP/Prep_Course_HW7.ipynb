{
 "cells": [
  {
   "cell_type": "code",
   "execution_count": 2,
   "metadata": {},
   "outputs": [],
   "source": [
    "class Vehiculo:\n",
    "  def __init__(self, color, tipo, cilindros):\n",
    "    self.color = color\n",
    "    self.tipo = tipo\n",
    "    self.cilindros = cilindros"
   ]
  },
  {
   "cell_type": "code",
   "execution_count": 10,
   "metadata": {},
   "outputs": [],
   "source": [
    "class Vehiculo:\n",
    "  def __init__(self, color, tipo, cilindros):\n",
    "    self.color = color\n",
    "    self.tipo = tipo\n",
    "    self.cilindros = cilindros\n",
    "    self.velocidad = 0\n",
    "    self.direccion = 0\n",
    "  \n",
    "  def Acelerar(self, vel):\n",
    "    self.velocidad += vel\n",
    "  \n",
    "  def Frenar(self, vel):\n",
    "    self.velocidad -= vel\n",
    "    \n",
    "  def Girar(self, grad):\n",
    "    self.direccion += grad\n",
    "  \n",
    "  def Estado(self):\n",
    "    print(\"Velocidad: \", self.velocidad, \"- Direccion: \", self.direccion)\n",
    "    \n",
    "  def Detalle(self):\n",
    "    print(f\"Soy un {self.tipo} de color {self.color} y tengo {self.cilindros} cilindros\")"
   ]
  },
  {
   "cell_type": "code",
   "execution_count": 11,
   "metadata": {},
   "outputs": [],
   "source": [
    "a1 = Vehiculo(\"Rojo\", \"Camioneta\", 6)\n",
    "a2 = Vehiculo(\"Azul\", \"Auto\", 4)\n",
    "a3 = Vehiculo(\"Verde\", \"Moto\", 2)"
   ]
  },
  {
   "cell_type": "code",
   "execution_count": 14,
   "metadata": {},
   "outputs": [],
   "source": [
    "a1.Acelerar(40)\n",
    "a2.Acelerar(60)\n",
    "a3.Acelerar(30)\n",
    "a1.Girar(30)\n",
    "a3.Girar(-30)\n",
    "a2.Frenar(-50)\n"
   ]
  },
  {
   "cell_type": "code",
   "execution_count": 16,
   "metadata": {},
   "outputs": [
    {
     "name": "stdout",
     "output_type": "stream",
     "text": [
      "Soy un auto de color Rojo y tengo 2 cilindros\n"
     ]
    }
   ],
   "source": [
    "a1 = Vehiculo('Rojo', 'auto', 2)\n",
    "a1.Detalle()"
   ]
  },
  {
   "cell_type": "code",
   "execution_count": 17,
   "metadata": {},
   "outputs": [
    {
     "name": "stdout",
     "output_type": "stream",
     "text": [
      "Velocidad:  0 - Direccion:  0\n",
      "Velocidad:  40 - Direccion:  0\n"
     ]
    }
   ],
   "source": [
    "a1.Estado()\n",
    "a1.Acelerar(40)\n",
    "a1.Estado() "
   ]
  }
 ],
 "metadata": {
  "kernelspec": {
   "display_name": "Python 3",
   "language": "python",
   "name": "python3"
  },
  "language_info": {
   "codemirror_mode": {
    "name": "ipython",
    "version": 3
   },
   "file_extension": ".py",
   "mimetype": "text/x-python",
   "name": "python",
   "nbconvert_exporter": "python",
   "pygments_lexer": "ipython3",
   "version": "3.10.9"
  },
  "orig_nbformat": 4,
  "vscode": {
   "interpreter": {
    "hash": "e7370f93d1d0cde622a1f8e1c04877d8463912d04d973331ad4851f04de6915a"
   }
  }
 },
 "nbformat": 4,
 "nbformat_minor": 2
}
